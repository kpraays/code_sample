{
 "cells": [
  {
   "cell_type": "code",
   "execution_count": 23,
   "id": "d2895d70",
   "metadata": {},
   "outputs": [],
   "source": [
    "import pandas as pd"
   ]
  },
  {
   "cell_type": "code",
   "execution_count": 24,
   "id": "d5eeb65d",
   "metadata": {},
   "outputs": [],
   "source": [
    "import json"
   ]
  },
  {
   "cell_type": "code",
   "execution_count": 25,
   "id": "fd523131",
   "metadata": {},
   "outputs": [],
   "source": [
    "tweet_ids = set()  #\"id_str\"\n",
    "reply_to_tweet_id = set() #\"in_reply_to_status_id_str\"\n",
    "user_ids_who_tweeted = set()  #\"user\" \"id_str\"\n",
    "replied_to_original_users = set()  #\"in_reply_to_user_id_str\""
   ]
  },
  {
   "cell_type": "code",
   "execution_count": 26,
   "id": "9548d641",
   "metadata": {},
   "outputs": [],
   "source": [
    "with open(\"W:\\positiveKeyIdeas\\hydrated_tweets\\drive\\MyDrive\\hydrated_tweets.csv\",\"r\") as data:\n",
    "    for tweets in data:\n",
    "        tweet=json.loads(tweets)\n",
    "        \n",
    "        tweet_ids.add(tweet[\"id_str\"])\n",
    "        reply_to_tweet_id.add(tweet[\"in_reply_to_status_id_str\"])\n",
    "        user_ids_who_tweeted.add(tweet[\"user\"][\"id_str\"])\n",
    "        replied_to_original_users.add(tweet[\"in_reply_to_user_id_str\"])"
   ]
  },
  {
   "cell_type": "code",
   "execution_count": 27,
   "id": "f33932b0",
   "metadata": {},
   "outputs": [
    {
     "data": {
      "text/plain": [
       "0.017059462621704064"
      ]
     },
     "execution_count": 27,
     "metadata": {},
     "output_type": "execute_result"
    }
   ],
   "source": [
    "len(tweet_ids.intersection(reply_to_tweet_id))/len(tweet_ids)"
   ]
  },
  {
   "cell_type": "code",
   "execution_count": 28,
   "id": "363084d3",
   "metadata": {},
   "outputs": [
    {
     "data": {
      "text/plain": [
       "0.06888541473453633"
      ]
     },
     "execution_count": 28,
     "metadata": {},
     "output_type": "execute_result"
    }
   ],
   "source": [
    "len(user_ids_who_tweeted.intersection(replied_to_original_users))/len(user_ids_who_tweeted)"
   ]
  },
  {
   "cell_type": "code",
   "execution_count": 30,
   "id": "0ec9645e",
   "metadata": {},
   "outputs": [
    {
     "data": {
      "text/plain": [
       "27045"
      ]
     },
     "execution_count": 30,
     "metadata": {},
     "output_type": "execute_result"
    }
   ],
   "source": [
    "len(reply_to_tweet_id)"
   ]
  },
  {
   "cell_type": "code",
   "execution_count": 31,
   "id": "bd662d88",
   "metadata": {},
   "outputs": [
    {
     "data": {
      "text/plain": [
       "191448"
      ]
     },
     "execution_count": 31,
     "metadata": {},
     "output_type": "execute_result"
    }
   ],
   "source": [
    "len(tweet_ids)"
   ]
  },
  {
   "cell_type": "code",
   "execution_count": 32,
   "id": "d4f5c8d8",
   "metadata": {},
   "outputs": [
    {
     "data": {
      "text/plain": [
       "3266"
      ]
     },
     "execution_count": 32,
     "metadata": {},
     "output_type": "execute_result"
    }
   ],
   "source": [
    "len(tweet_ids.intersection(reply_to_tweet_id))"
   ]
  },
  {
   "cell_type": "code",
   "execution_count": 33,
   "id": "0fb3cb35",
   "metadata": {},
   "outputs": [
    {
     "data": {
      "text/plain": [
       "7799"
      ]
     },
     "execution_count": 33,
     "metadata": {},
     "output_type": "execute_result"
    }
   ],
   "source": [
    "len(user_ids_who_tweeted.intersection(replied_to_original_users))"
   ]
  },
  {
   "cell_type": "code",
   "execution_count": null,
   "id": "69496d99",
   "metadata": {},
   "outputs": [],
   "source": []
  }
 ],
 "metadata": {
  "kernelspec": {
   "display_name": "Python 3 (ipykernel)",
   "language": "python",
   "name": "python3"
  },
  "language_info": {
   "codemirror_mode": {
    "name": "ipython",
    "version": 3
   },
   "file_extension": ".py",
   "mimetype": "text/x-python",
   "name": "python",
   "nbconvert_exporter": "python",
   "pygments_lexer": "ipython3",
   "version": "3.9.7"
  }
 },
 "nbformat": 4,
 "nbformat_minor": 5
}
